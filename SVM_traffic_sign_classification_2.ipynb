{
  "nbformat": 4,
  "nbformat_minor": 0,
  "metadata": {
    "colab": {
      "name": "SVM-traffic-sign-classification-2.ipynb",
      "provenance": [],
      "collapsed_sections": [
        "ryQ7c8CHDswv",
        "CpqwuDyXqfOI"
      ]
    },
    "kernelspec": {
      "name": "python3",
      "display_name": "Python 3"
    },
    "accelerator": "TPU"
  },
  "cells": [
    {
      "cell_type": "markdown",
      "metadata": {
        "id": "uAb6kaeYVUHq",
        "colab_type": "text"
      },
      "source": [
        "# Traffic Sign Classification Using SVM\n",
        "\n",
        "Dataset used- German Traffic Sign Recognition Dataset (GTSRB). \n",
        "\n"
      ]
    },
    {
      "cell_type": "markdown",
      "metadata": {
        "id": "3O8rPrqgVctv",
        "colab_type": "text"
      },
      "source": [
        "## Methods implemented in this notebook:\n",
        "- LinearSVC\n",
        "- GridSearchCV to find best alpha for SGDClassifier\n",
        "- GridSearchCV for alpha=1\n",
        "\n",
        "## My Google Drive link to pickled dataset file- https://drive.google.com/open?id=1W5xABCisEdAsyCGmLY5k3V59Kh_iscP7"
      ]
    },
    {
      "cell_type": "code",
      "metadata": {
        "id": "aO6tHbTBCcPC",
        "colab_type": "code",
        "outputId": "eb9c1524-fef2-4f74-9956-8fa6ed9df720",
        "colab": {
          "base_uri": "https://localhost:8080/",
          "height": 34
        }
      },
      "source": [
        "from google.colab import drive\n",
        "drive.mount('/content/drive')"
      ],
      "execution_count": 1,
      "outputs": [
        {
          "output_type": "stream",
          "text": [
            "Drive already mounted at /content/drive; to attempt to forcibly remount, call drive.mount(\"/content/drive\", force_remount=True).\n"
          ],
          "name": "stdout"
        }
      ]
    },
    {
      "cell_type": "markdown",
      "metadata": {
        "id": "AAd15ASDSlE9",
        "colab_type": "text"
      },
      "source": [
        "## Importing necessary libraries "
      ]
    },
    {
      "cell_type": "code",
      "metadata": {
        "id": "O7I4uj5DW25f",
        "colab_type": "code",
        "colab": {}
      },
      "source": [
        "import os\n",
        "import numpy as np\n",
        "import matplotlib.pyplot as plt\n",
        "import pandas as pd\n",
        "import cv2\n",
        "from sklearn.svm import SVC\n",
        "from sklearn import metrics\n",
        "from sklearn.svm import LinearSVC"
      ],
      "execution_count": 0,
      "outputs": []
    },
    {
      "cell_type": "markdown",
      "metadata": {
        "id": "3hNKxCCJSmdy",
        "colab_type": "text"
      },
      "source": [
        "## Reading training, test and validation data in a dataframe"
      ]
    },
    {
      "cell_type": "code",
      "metadata": {
        "id": "1roD2gsaCm-H",
        "colab_type": "code",
        "colab": {}
      },
      "source": [
        "train_df= pd.read_pickle('/content/drive/My Drive/traffic_sign_classification/train.p')\n",
        "test_df = pd.read_pickle('/content/drive/My Drive/traffic_sign_classification/test.p')\n",
        "val_df = pd.read_pickle('/content/drive/My Drive/traffic_sign_classification/valid.p')"
      ],
      "execution_count": 0,
      "outputs": []
    },
    {
      "cell_type": "markdown",
      "metadata": {
        "id": "vcwTw36wStHs",
        "colab_type": "text"
      },
      "source": [
        "## Selecting image features and labels as data input and output"
      ]
    },
    {
      "cell_type": "code",
      "metadata": {
        "id": "lACWG5n1DasX",
        "colab_type": "code",
        "colab": {}
      },
      "source": [
        "X_train, y_train = train_df['features'], train_df['labels']\n",
        "X_test, y_test = test_df['features'], test_df['labels']\n",
        "X_val, y_val = val_df['features'], val_df['labels']\n"
      ],
      "execution_count": 0,
      "outputs": []
    },
    {
      "cell_type": "markdown",
      "metadata": {
        "id": "X6AzIbODS1fV",
        "colab_type": "text"
      },
      "source": [
        "## Function to convert RGB images to grayscale images"
      ]
    },
    {
      "cell_type": "code",
      "metadata": {
        "id": "SfkGou9j_EDP",
        "colab_type": "code",
        "colab": {}
      },
      "source": [
        "def convert_to_grayscale(image):\n",
        "  gray = cv2.cvtColor(image, cv2.COLOR_BGR2GRAY)\n",
        "  return gray"
      ],
      "execution_count": 0,
      "outputs": []
    },
    {
      "cell_type": "markdown",
      "metadata": {
        "id": "rFLzQZ_iS5GB",
        "colab_type": "text"
      },
      "source": [
        "## Function to perform Gaussian blurring on grayscale data"
      ]
    },
    {
      "cell_type": "code",
      "metadata": {
        "id": "U2j-uI8OLH2X",
        "colab_type": "code",
        "colab": {}
      },
      "source": [
        "# Gaussian filter is performed in Canny detection, this step is to see the \n",
        "#transformation in data and to see how Gaussian blur reduces noise in the images\n",
        "def blur_image(image):\n",
        "  blur = cv2.GaussianBlur(image,(3,3),0)\n",
        "  return blur"
      ],
      "execution_count": 0,
      "outputs": []
    },
    {
      "cell_type": "markdown",
      "metadata": {
        "id": "S4qxx6_BLVa1",
        "colab_type": "text"
      },
      "source": [
        "## Canny Edge detection function that takes input as grayscale images and gives edge detected images as output"
      ]
    },
    {
      "cell_type": "code",
      "metadata": {
        "id": "ufp0cNXJLXjP",
        "colab_type": "code",
        "colab": {}
      },
      "source": [
        "def canny_edge_detection(image):\n",
        "  edges = cv2.Canny(image,30,40)\n",
        "  return edges"
      ],
      "execution_count": 0,
      "outputs": []
    },
    {
      "cell_type": "markdown",
      "metadata": {
        "id": "fvdVWvR4TKQL",
        "colab_type": "text"
      },
      "source": [
        "## Preprocessing input data using defined functions\n"
      ]
    },
    {
      "cell_type": "code",
      "metadata": {
        "id": "8rkXrViZD02Z",
        "colab_type": "code",
        "colab": {}
      },
      "source": [
        "grayscale_train = list(map(convert_to_grayscale,X_train))\n",
        "blur_train = list(map(blur_image,grayscale_train))\n",
        "edge_detection_train = list(map(canny_edge_detection, grayscale_train))\n"
      ],
      "execution_count": 0,
      "outputs": []
    },
    {
      "cell_type": "markdown",
      "metadata": {
        "id": "wULN072tTN_D",
        "colab_type": "text"
      },
      "source": [
        "## Checking the images after each step of preprocessing"
      ]
    },
    {
      "cell_type": "code",
      "metadata": {
        "id": "Vb-sZe51Ju9C",
        "colab_type": "code",
        "outputId": "45ac7398-5baf-4fab-b135-aa3fd0aca127",
        "colab": {
          "base_uri": "https://localhost:8080/",
          "height": 364
        }
      },
      "source": [
        "plt.imshow(X_train[7000],cmap= \"gray\")"
      ],
      "execution_count": 54,
      "outputs": [
        {
          "output_type": "execute_result",
          "data": {
            "text/plain": [
              "<matplotlib.image.AxesImage at 0x7f1299eddd68>"
            ]
          },
          "metadata": {
            "tags": []
          },
          "execution_count": 54
        },
        {
          "output_type": "display_data",
          "data": {
            "image/png": "[encoded data removed]",
            "text/plain": [
              "<Figure size 576x396 with 1 Axes>"
            ]
          },
          "metadata": {
            "tags": []
          }
        }
      ]
    },
    {
      "cell_type": "code",
      "metadata": {
        "id": "TTpKcEdVLz5W",
        "colab_type": "code",
        "colab": {
          "base_uri": "https://localhost:8080/",
          "height": 364
        },
        "outputId": "8ca6b8f8-51d3-41a1-f7ff-3f13d9d4e62d"
      },
      "source": [
        "plt.imshow(grayscale_train[7000],cmap= \"gray\")"
      ],
      "execution_count": 55,
      "outputs": [
        {
          "output_type": "execute_result",
          "data": {
            "text/plain": [
              "<matplotlib.image.AxesImage at 0x7f1299ec2320>"
            ]
          },
          "metadata": {
            "tags": []
          },
          "execution_count": 55
        },
        {
          "output_type": "display_data",
          "data": {
            "image/png": "[encoded data removed]",
            "text/plain": [
              "<Figure size 576x396 with 1 Axes>"
            ]
          },
          "metadata": {
            "tags": []
          }
        }
      ]
    },
    {
      "cell_type": "code",
      "metadata": {
        "id": "D9V4-pmBLz__",
        "colab_type": "code",
        "colab": {
          "base_uri": "https://localhost:8080/",
          "height": 364
        },
        "outputId": "db762de4-fb2f-4b9a-f268-96e652c08602"
      },
      "source": [
        "plt.imshow(blur_train[7000],cmap= \"gray\")"
      ],
      "execution_count": 56,
      "outputs": [
        {
          "output_type": "execute_result",
          "data": {
            "text/plain": [
              "<matplotlib.image.AxesImage at 0x7f1299d0f4a8>"
            ]
          },
          "metadata": {
            "tags": []
          },
          "execution_count": 56
        },
        {
          "output_type": "display_data",
          "data": {
            "image/png": "[encoded data removed]",
            "text/plain": [
              "<Figure size 576x396 with 1 Axes>"
            ]
          },
          "metadata": {
            "tags": []
          }
        }
      ]
    },
    {
      "cell_type": "code",
      "metadata": {
        "id": "s9fbuQSdvvVT",
        "colab_type": "code",
        "outputId": "ebd96130-b96f-4593-8dc5-241fa839102c",
        "colab": {
          "base_uri": "https://localhost:8080/",
          "height": 364
        }
      },
      "source": [
        "plt.imshow(edge_detection_train[7000],cmap= \"gray\")"
      ],
      "execution_count": 57,
      "outputs": [
        {
          "output_type": "execute_result",
          "data": {
            "text/plain": [
              "<matplotlib.image.AxesImage at 0x7f1299d40198>"
            ]
          },
          "metadata": {
            "tags": []
          },
          "execution_count": 57
        },
        {
          "output_type": "display_data",
          "data": {
            "image/png": "[encoded data removed]",
            "text/plain": [
              "<Figure size 576x396 with 1 Axes>"
            ]
          },
          "metadata": {
            "tags": []
          }
        }
      ]
    },
    {
      "cell_type": "code",
      "metadata": {
        "id": "wiBxAC0tw4US",
        "colab_type": "code",
        "colab": {}
      },
      "source": [
        "grayscale_test = list(map(convert_to_grayscale,X_test))\n",
        "\n",
        "blur_test = list(map(blur_image,grayscale_test))\n",
        "\n",
        "edge_detection_test = list(map(canny_edge_detection, grayscale_test))\n"
      ],
      "execution_count": 0,
      "outputs": []
    },
    {
      "cell_type": "code",
      "metadata": {
        "id": "Rq4wvdOeSzgR",
        "colab_type": "code",
        "colab": {}
      },
      "source": [
        "edge_detection_train = np.asarray(edge_detection_train, dtype=np.float32)\n",
        "edge_detection_test = np.asarray(edge_detection_test, dtype=np.float32)"
      ],
      "execution_count": 0,
      "outputs": []
    },
    {
      "cell_type": "code",
      "metadata": {
        "id": "MPDIhT5LRjdH",
        "colab_type": "code",
        "colab": {}
      },
      "source": [
        "n_samples_train = len(X_train)\n",
        "n_samples_test = len(X_test)\n",
        "\n",
        "flatten_train = edge_detection_train.reshape((n_samples_train, -1))\n",
        "flatten_test = edge_detection_test.reshape((n_samples_test, -1))"
      ],
      "execution_count": 0,
      "outputs": []
    },
    {
      "cell_type": "markdown",
      "metadata": {
        "id": "tmTg9XQ9MsAk",
        "colab_type": "text"
      },
      "source": [
        "## Using LinearSVC for SVM classification"
      ]
    },
    {
      "cell_type": "code",
      "metadata": {
        "id": "V54pD8Jpl9qx",
        "colab_type": "code",
        "colab": {
          "base_uri": "https://localhost:8080/",
          "height": 68
        },
        "outputId": "f072a74f-21bd-4203-a7a3-3924cb3006d5"
      },
      "source": [
        "clf_linearsvc = LinearSVC(random_state=0, tol=1e-5)\n",
        "clf_linearsvc.fit(flatten_train, y_train)\n",
        "y_pred_linear_svc = clf.predict(flatten_test)\n",
        "print(\"Accuracy:\",metrics.accuracy_score(y_test, y_pred_linear_svc))"
      ],
      "execution_count": 58,
      "outputs": [
        {
          "output_type": "stream",
          "text": [
            "/usr/local/lib/python3.6/dist-packages/sklearn/svm/base.py:929: ConvergenceWarning: Liblinear failed to converge, increase the number of iterations.\n",
            "  \"the number of iterations.\", ConvergenceWarning)\n"
          ],
          "name": "stderr"
        },
        {
          "output_type": "stream",
          "text": [
            "Accuracy: 0.616547901821061\n"
          ],
          "name": "stdout"
        }
      ]
    },
    {
      "cell_type": "markdown",
      "metadata": {
        "id": "go8FRPx-T0xW",
        "colab_type": "text"
      },
      "source": [
        "## **Accuracy of LinearSVC classifier: 61.65%**"
      ]
    },
    {
      "cell_type": "markdown",
      "metadata": {
        "id": "9YNvc90gM-Hz",
        "colab_type": "text"
      },
      "source": [
        "## Using GridSearchCV to tune alpha parameter for better accuracy, the default value of alpha is 0.0001"
      ]
    },
    {
      "cell_type": "code",
      "metadata": {
        "id": "UwQAbyjC3j1w",
        "colab_type": "code",
        "colab": {}
      },
      "source": [
        "from sklearn.model_selection import GridSearchCV\n",
        "def svc_param_selection(X, y, nfolds):\n",
        "    alphas = [0.0001,0.001, 0.01, 0.1, 1]\n",
        "    param_grid = {'alpha': alphas}\n",
        "    grid_search = GridSearchCV(linear_model.SGDClassifier(max_iter=1000, tol=1e-3), param_grid, cv=nfolds)\n",
        "    grid_search.fit(X, y)\n",
        "    grid_search.best_params_\n",
        "    return grid_search.best_params_"
      ],
      "execution_count": 0,
      "outputs": []
    },
    {
      "cell_type": "code",
      "metadata": {
        "id": "G4WiUe8C4iip",
        "colab_type": "code",
        "colab": {}
      },
      "source": [
        "params = svc_param_selection(flatten_train, y_train, 5)\n"
      ],
      "execution_count": 0,
      "outputs": []
    },
    {
      "cell_type": "code",
      "metadata": {
        "id": "U4o2Zodq7F0J",
        "colab_type": "code",
        "colab": {
          "base_uri": "https://localhost:8080/",
          "height": 34
        },
        "outputId": "a90a3319-36aa-44ea-f9ff-e97b66bbb4e5"
      },
      "source": [
        "print(params)\n"
      ],
      "execution_count": 53,
      "outputs": [
        {
          "output_type": "stream",
          "text": [
            "{'alpha': 1}\n"
          ],
          "name": "stdout"
        }
      ]
    },
    {
      "cell_type": "markdown",
      "metadata": {
        "id": "MhQ9vYwsPUyf",
        "colab_type": "text"
      },
      "source": [
        "## Plotting Class Prediction Error for SGDClassifier(alpha=1)"
      ]
    },
    {
      "cell_type": "code",
      "metadata": {
        "id": "9rvRImEdRzyY",
        "colab_type": "code",
        "colab": {
          "base_uri": "https://localhost:8080/",
          "height": 364
        },
        "outputId": "634e3710-ea3a-45ec-b4bf-a8042dd778ee"
      },
      "source": [
        "from yellowbrick.classifier import ClassPredictionError\n",
        "\n",
        "\n",
        "classes = [1,2,3,4,5,6,7,8,9,10,11,12,13,14,15,16,17,18,19,20,21,22,23,24,25,26,27,28,29,30,31,32,33,34,35,36,37,38,39,40,41,42,43]\n",
        "\n",
        "visualizer = ClassPredictionError(linear_model.SGDClassifier(max_iter=1000, tol=1e-3,alpha=1), classes=classes)\n",
        "\n",
        "visualizer.fit(flatten_train, y_train)\n",
        "\n",
        "visualizer.score(flatten_test, y_test)"
      ],
      "execution_count": 59,
      "outputs": [
        {
          "output_type": "execute_result",
          "data": {
            "text/plain": [
              "0.6123515439429928"
            ]
          },
          "metadata": {
            "tags": []
          },
          "execution_count": 59
        },
        {
          "output_type": "display_data",
          "data": {
            "image/png": "[encoded data removed]",
            "text/plain": [
              "<Figure size 576x396 with 1 Axes>"
            ]
          },
          "metadata": {
            "tags": []
          }
        }
      ]
    },
    {
      "cell_type": "markdown",
      "metadata": {
        "id": "6hXMUcLhNW5R",
        "colab_type": "text"
      },
      "source": [
        "## Training the SGDClassifier using alpha =1 to check the accuracy"
      ]
    },
    {
      "cell_type": "code",
      "metadata": {
        "id": "_Q0fNKdp5mtX",
        "colab_type": "code",
        "colab": {}
      },
      "source": [
        "from sklearn import linear_model\n",
        "\n",
        "clf = linear_model.SGDClassifier(max_iter=1000, tol=1e-3,alpha=1)\n",
        "clf.fit(flatten_train, y_train)"
      ],
      "execution_count": 0,
      "outputs": []
    },
    {
      "cell_type": "markdown",
      "metadata": {
        "id": "Ax9Ago97Phb-",
        "colab_type": "text"
      },
      "source": [
        "## Testing for SGDClassifier(alpha=1)"
      ]
    },
    {
      "cell_type": "code",
      "metadata": {
        "id": "9IpMKU7vDD9S",
        "colab_type": "code",
        "colab": {}
      },
      "source": [
        "y_pred1 = svclassifier.predict(flatten_test)"
      ],
      "execution_count": 0,
      "outputs": []
    },
    {
      "cell_type": "code",
      "metadata": {
        "id": "H7usXAplRY5I",
        "colab_type": "code",
        "outputId": "577dc7e3-e9c2-4896-f648-d1256ea59bb0",
        "colab": {
          "base_uri": "https://localhost:8080/",
          "height": 34
        }
      },
      "source": [
        "from sklearn import metrics\n",
        "print(\"Accuracy:\",metrics.accuracy_score(y_test, y_pred1))"
      ],
      "execution_count": 18,
      "outputs": [
        {
          "output_type": "stream",
          "text": [
            "Accuracy: 0.6715756136183689\n"
          ],
          "name": "stdout"
        }
      ]
    },
    {
      "cell_type": "markdown",
      "metadata": {
        "id": "93sllt1-Nv0X",
        "colab_type": "text"
      },
      "source": [
        "## **The accuracy of the model with SGDClassifier(alpha=1): 67.15%**"
      ]
    },
    {
      "cell_type": "markdown",
      "metadata": {
        "id": "CpqwuDyXqfOI",
        "colab_type": "text"
      },
      "source": [
        "# References:\n",
        "- https://blog.hyperiondev.com/index.php/2019/02/18/machine-learning/\n",
        "- https://www.datacamp.com/community/tutorials/k-nearest-neighbor-classification-scikit-learn\n",
        "- https://github.com/mohamedameen93/German-Traffic-Sign-Classification-Using-TensorFlow/blob/master/Traffic_Sign_Classifier.ipynb"
      ]
    }
  ]
}