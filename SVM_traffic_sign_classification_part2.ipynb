{
  "nbformat": 4,
  "nbformat_minor": 0,
  "metadata": {
    "colab": {
      "name": "SVM-traffic-sign-classification.ipynb",
      "provenance": [],
      "collapsed_sections": [
        "ryQ7c8CHDswv",
        "CpqwuDyXqfOI"
      ]
    },
    "kernelspec": {
      "name": "python3",
      "display_name": "Python 3"
    },
    "accelerator": "TPU"
  },
  "cells": [
    {
      "cell_type": "markdown",
      "metadata": {
        "id": "W_aG_i08z2zb",
        "colab_type": "text"
      },
      "source": [
        "# Traffic Sign Classification Using SVM\n",
        "\n",
        "Dataset used- German Traffic Sign Recognition Dataset (GTSRB). \n"
      ]
    },
    {
      "cell_type": "markdown",
      "metadata": {
        "id": "ePPT0WSTVu3R",
        "colab_type": "text"
      },
      "source": [
        "## Methods implemented in this notebook:\n",
        "- SVC(kernel='linear')\n",
        "- BaggingClassifier using OneVSRestClassifier\n",
        "\n",
        "My Google Drive link to pickled dataset file- https://drive.google.com/open?id=1W5xABCisEdAsyCGmLY5k3V59Kh_iscP7"
      ]
    },
    {
      "cell_type": "markdown",
      "metadata": {
        "id": "txRB0zYb0LSi",
        "colab_type": "text"
      },
      "source": [
        "Coded on Google colaboratory, mounting google drive"
      ]
    },
    {
      "cell_type": "code",
      "metadata": {
        "id": "aO6tHbTBCcPC",
        "colab_type": "code",
        "outputId": "7614f478-09c2-4bc3-d8ad-3f9413b276a5",
        "colab": {
          "base_uri": "https://localhost:8080/",
          "height": 34
        }
      },
      "source": [
        "from google.colab import drive\n",
        "drive.mount('/content/drive')"
      ],
      "execution_count": 9,
      "outputs": [
        {
          "output_type": "stream",
          "text": [
            "Drive already mounted at /content/drive; to attempt to forcibly remount, call drive.mount(\"/content/drive\", force_remount=True).\n"
          ],
          "name": "stdout"
        }
      ]
    },
    {
      "cell_type": "markdown",
      "metadata": {
        "id": "DkkCi1lh0aCR",
        "colab_type": "text"
      },
      "source": [
        "## Importing necessary libraries "
      ]
    },
    {
      "cell_type": "code",
      "metadata": {
        "id": "O7I4uj5DW25f",
        "colab_type": "code",
        "colab": {}
      },
      "source": [
        "import os\n",
        "import numpy as np\n",
        "import matplotlib.pyplot as plt\n",
        "import pandas as pd\n",
        "import cv2\n",
        "from sklearn.ensemble import BaggingClassifier\n",
        "from sklearn.multiclass import OneVsRestClassifier\n",
        "from sklearn.svm import SVC\n",
        "import torch\n",
        "from sklearn.svm import SVC\n",
        "from sklearn import metrics"
      ],
      "execution_count": 0,
      "outputs": []
    },
    {
      "cell_type": "markdown",
      "metadata": {
        "id": "ejL_YpAo0ixy",
        "colab_type": "text"
      },
      "source": [
        "## Reading training, test and validation data in a dataframe"
      ]
    },
    {
      "cell_type": "code",
      "metadata": {
        "id": "1roD2gsaCm-H",
        "colab_type": "code",
        "colab": {}
      },
      "source": [
        "train_df= pd.read_pickle('/content/drive/My Drive/traffic_sign_classification/train.p')\n",
        "test_df = pd.read_pickle('/content/drive/My Drive/traffic_sign_classification/test.p')\n",
        "val_df = pd.read_pickle('/content/drive/My Drive/traffic_sign_classification/valid.p')"
      ],
      "execution_count": 0,
      "outputs": []
    },
    {
      "cell_type": "markdown",
      "metadata": {
        "id": "BTPAMPsO00Gg",
        "colab_type": "text"
      },
      "source": [
        "## Selecting image features and labels as data input and output"
      ]
    },
    {
      "cell_type": "code",
      "metadata": {
        "id": "lACWG5n1DasX",
        "colab_type": "code",
        "colab": {}
      },
      "source": [
        "X_train, y_train = train_df['features'], train_df['labels']\n",
        "X_test, y_test = test_df['features'], test_df['labels']\n",
        "X_val, y_val = val_df['features'], val_df['labels']\n"
      ],
      "execution_count": 0,
      "outputs": []
    },
    {
      "cell_type": "markdown",
      "metadata": {
        "id": "icm0gM4oXD8b",
        "colab_type": "text"
      },
      "source": [
        "## Plotting histogram for training data"
      ]
    },
    {
      "cell_type": "code",
      "metadata": {
        "id": "b9aX1UroW4Ph",
        "colab_type": "code",
        "colab": {
          "base_uri": "https://localhost:8080/",
          "height": 279
        },
        "outputId": "221d588c-a8fa-4009-9947-fa5551afcf61"
      },
      "source": [
        "hist, bins = np.histogram(y_train, bins=43)\n",
        "center = (bins[:-1] + bins[1:]) / 2\n",
        "\n",
        "plt.bar(center, hist, width=0.5, color = 'red')\n",
        "\n",
        "plt.xlabel(\"Training data classes\")\n",
        "plt.ylabel(\"Number of images\")\n",
        "plt.show()\n"
      ],
      "execution_count": 40,
      "outputs": [
        {
          "output_type": "display_data",
          "data": {
            "image/png": "[encoded data removed]",
            "text/plain": [
              "<Figure size 432x288 with 1 Axes>"
            ]
          },
          "metadata": {
            "tags": []
          }
        }
      ]
    },
    {
      "cell_type": "markdown",
      "metadata": {
        "id": "5S_Hm6Yo1EC3",
        "colab_type": "text"
      },
      "source": [
        "## Function to convert RGB images to grayscale images"
      ]
    },
    {
      "cell_type": "code",
      "metadata": {
        "id": "SfkGou9j_EDP",
        "colab_type": "code",
        "colab": {}
      },
      "source": [
        "def convert_to_grayscale(image):\n",
        "  gray = cv2.cvtColor(image, cv2.COLOR_BGR2GRAY)\n",
        "  return gray"
      ],
      "execution_count": 0,
      "outputs": []
    },
    {
      "cell_type": "markdown",
      "metadata": {
        "id": "4q-wmpxG1PJB",
        "colab_type": "text"
      },
      "source": [
        "## Function to perform Gaussian blurring on grayscale data"
      ]
    },
    {
      "cell_type": "code",
      "metadata": {
        "id": "lGcHrpVc1N-v",
        "colab_type": "code",
        "colab": {}
      },
      "source": [
        "# Gaussian filter is performed in Canny detection, this step is to see the \n",
        "#transformation in data and to see how Gaussian blur reduces noise in the images\n",
        "def blur_image(image):\n",
        "  blur = cv2.GaussianBlur(image,(3,3),0)\n",
        "  return blur"
      ],
      "execution_count": 0,
      "outputs": []
    },
    {
      "cell_type": "markdown",
      "metadata": {
        "id": "4EJoIdo71uEE",
        "colab_type": "text"
      },
      "source": [
        "## Canny Edge detection function that takes input as grayscale images and gives edge detected images as output"
      ]
    },
    {
      "cell_type": "code",
      "metadata": {
        "id": "NP-k4-9t1spL",
        "colab_type": "code",
        "colab": {}
      },
      "source": [
        "def canny_edge_detection(image):\n",
        "  edges = cv2.Canny(image,30,40)\n",
        "  return edges"
      ],
      "execution_count": 0,
      "outputs": []
    },
    {
      "cell_type": "markdown",
      "metadata": {
        "id": "REpuhHM6F3sw",
        "colab_type": "text"
      },
      "source": [
        "## Preprocessing input data using defined functions\n",
        "\n"
      ]
    },
    {
      "cell_type": "code",
      "metadata": {
        "id": "8rkXrViZD02Z",
        "colab_type": "code",
        "colab": {}
      },
      "source": [
        "grayscale_train = list(map(convert_to_grayscale,X_train))\n",
        "blur_train = list(map(blur_image,grayscale_train))\n",
        "edge_detection_train = list(map(canny_edge_detection, blur_train))"
      ],
      "execution_count": 0,
      "outputs": []
    },
    {
      "cell_type": "markdown",
      "metadata": {
        "id": "Y0mMsmDVGqiM",
        "colab_type": "text"
      },
      "source": [
        "## Checking the images after each step of preprocessing"
      ]
    },
    {
      "cell_type": "code",
      "metadata": {
        "id": "M62f1QUCGZey",
        "colab_type": "code",
        "colab": {
          "base_uri": "https://localhost:8080/",
          "height": 283
        },
        "outputId": "f2d1c6f0-ce21-47a3-dc50-b4d05c6dd996"
      },
      "source": [
        "plt.imshow(X_train[7000],cmap= \"gray\")"
      ],
      "execution_count": 36,
      "outputs": [
        {
          "output_type": "execute_result",
          "data": {
            "text/plain": [
              "<matplotlib.image.AxesImage at 0x7f63454c7dd8>"
            ]
          },
          "metadata": {
            "tags": []
          },
          "execution_count": 36
        },
        {
          "output_type": "display_data",
          "data": {
            "image/png": "[encoded data removed]",
            "text/plain": [
              "<Figure size 432x288 with 1 Axes>"
            ]
          },
          "metadata": {
            "tags": []
          }
        }
      ]
    },
    {
      "cell_type": "code",
      "metadata": {
        "id": "EDUFPNGJGmEs",
        "colab_type": "code",
        "colab": {
          "base_uri": "https://localhost:8080/",
          "height": 283
        },
        "outputId": "cf1f7c5e-39d9-47ba-a583-23feb1173ef3"
      },
      "source": [
        "plt.imshow(grayscale_train[7000],cmap= \"gray\")"
      ],
      "execution_count": 37,
      "outputs": [
        {
          "output_type": "execute_result",
          "data": {
            "text/plain": [
              "<matplotlib.image.AxesImage at 0x7f63454a9b00>"
            ]
          },
          "metadata": {
            "tags": []
          },
          "execution_count": 37
        },
        {
          "output_type": "display_data",
          "data": {
            "image/png": "[encoded data removed]",
            "text/plain": [
              "<Figure size 432x288 with 1 Axes>"
            ]
          },
          "metadata": {
            "tags": []
          }
        }
      ]
    },
    {
      "cell_type": "code",
      "metadata": {
        "id": "4IyDYpeiJPdm",
        "colab_type": "code",
        "colab": {
          "base_uri": "https://localhost:8080/",
          "height": 283
        },
        "outputId": "30d46775-43c0-47bc-9448-42c6c65c29b4"
      },
      "source": [
        "plt.imshow(blur_train[7000],cmap= \"gray\")"
      ],
      "execution_count": 38,
      "outputs": [
        {
          "output_type": "execute_result",
          "data": {
            "text/plain": [
              "<matplotlib.image.AxesImage at 0x7f634540c860>"
            ]
          },
          "metadata": {
            "tags": []
          },
          "execution_count": 38
        },
        {
          "output_type": "display_data",
          "data": {
            "image/png": "[encoded data removed]",
            "text/plain": [
              "<Figure size 432x288 with 1 Axes>"
            ]
          },
          "metadata": {
            "tags": []
          }
        }
      ]
    },
    {
      "cell_type": "code",
      "metadata": {
        "id": "Vb-sZe51Ju9C",
        "colab_type": "code",
        "outputId": "5b4523f6-2d04-4003-95d0-75f3944e4131",
        "colab": {
          "base_uri": "https://localhost:8080/",
          "height": 283
        }
      },
      "source": [
        "plt.imshow(edge_detection_train[7000],cmap= \"gray\")"
      ],
      "execution_count": 39,
      "outputs": [
        {
          "output_type": "execute_result",
          "data": {
            "text/plain": [
              "<matplotlib.image.AxesImage at 0x7f63453f05c0>"
            ]
          },
          "metadata": {
            "tags": []
          },
          "execution_count": 39
        },
        {
          "output_type": "display_data",
          "data": {
            "image/png": "[encoded data removed]",
            "text/plain": [
              "<Figure size 432x288 with 1 Axes>"
            ]
          },
          "metadata": {
            "tags": []
          }
        }
      ]
    },
    {
      "cell_type": "markdown",
      "metadata": {
        "id": "sz05yz-pGwBW",
        "colab_type": "text"
      },
      "source": [
        "## Preprocessing test images"
      ]
    },
    {
      "cell_type": "code",
      "metadata": {
        "id": "wiBxAC0tw4US",
        "colab_type": "code",
        "colab": {}
      },
      "source": [
        "grayscale_test = list(map(convert_to_grayscale,X_test))\n",
        "\n",
        "blur_test = list(map(blur_image,grayscale_test))\n",
        "\n",
        "edge_detection_test = list(map(canny_edge_detection, grayscale_test))\n"
      ],
      "execution_count": 0,
      "outputs": []
    },
    {
      "cell_type": "markdown",
      "metadata": {
        "id": "5jan6NmCG2k5",
        "colab_type": "text"
      },
      "source": [
        "## Converting lists of images to numpy array"
      ]
    },
    {
      "cell_type": "code",
      "metadata": {
        "id": "Rq4wvdOeSzgR",
        "colab_type": "code",
        "colab": {}
      },
      "source": [
        "edge_detection_train = np.asarray(edge_detection_train, dtype=np.float32)\n",
        "edge_detection_test = np.asarray(edge_detection_test, dtype=np.float32)"
      ],
      "execution_count": 0,
      "outputs": []
    },
    {
      "cell_type": "markdown",
      "metadata": {
        "id": "XEb8V2SsG9Qb",
        "colab_type": "text"
      },
      "source": [
        "## Flattening the numpy array to reduce dimenions before passing to classifier"
      ]
    },
    {
      "cell_type": "code",
      "metadata": {
        "id": "MPDIhT5LRjdH",
        "colab_type": "code",
        "colab": {}
      },
      "source": [
        "n_samples_train = len(X_train)\n",
        "n_samples_test = len(X_test)\n",
        "\n",
        "flatten_train = edge_detection_train.reshape((n_samples_train, -1))\n",
        "flatten_test = edge_detection_test.reshape((n_samples_test, -1))"
      ],
      "execution_count": 0,
      "outputs": []
    },
    {
      "cell_type": "markdown",
      "metadata": {
        "id": "LTQiGGjyHLrh",
        "colab_type": "text"
      },
      "source": [
        "## Using 'SVC' from sklearn.svm"
      ]
    },
    {
      "cell_type": "code",
      "metadata": {
        "id": "2kfuMO5LSh_4",
        "colab_type": "code",
        "outputId": "3e16d254-5f95-46ae-91ae-667c28c44add",
        "colab": {
          "base_uri": "https://localhost:8080/",
          "height": 34
        }
      },
      "source": [
        "svclassifier = SVC(kernel='linear')\n",
        "svclassifier.fit(flatten_train, y_train)\n",
        "y_pred_svc = svclassifier.predict(flatten_test)\n",
        "accuracy_svc = metrics.accuracy_score(y_test, y_pred_svc)\n",
        "print(\"Accuracy:\",accuracy_svc)"
      ],
      "execution_count": 32,
      "outputs": [
        {
          "output_type": "stream",
          "text": [
            "Accuracy: 0.6790973871733966\n"
          ],
          "name": "stdout"
        }
      ]
    },
    {
      "cell_type": "markdown",
      "metadata": {
        "id": "evPmMstgQJRW",
        "colab_type": "text"
      },
      "source": [
        "## **Accuracy of SVC(kernel = 'linear') : 67.90%**"
      ]
    },
    {
      "cell_type": "markdown",
      "metadata": {
        "id": "WFe3AtQeIAy1",
        "colab_type": "text"
      },
      "source": [
        "## Using BaggingClassifier with SVC as ensemble classifiers tend to give more accuracy than SVM classifiers-"
      ]
    },
    {
      "cell_type": "code",
      "metadata": {
        "id": "8DtD5Lie6851",
        "colab_type": "code",
        "colab": {
          "base_uri": "https://localhost:8080/",
          "height": 51
        },
        "outputId": "0fe37bb5-950f-4eef-a227-1e40b482e81f"
      },
      "source": [
        "\n",
        "\n",
        "n_estimators = 10\n",
        "clf_bagging = OneVsRestClassifier(BaggingClassifier(SVC(kernel='linear', probability=True), max_samples=1.0 / n_estimators, n_estimators=n_estimators))\n",
        "clf_bagging.fit(flatten_train, y_train)\n",
        "print(\"Bagging SVC score\", clf_bagging.score(flatten_train, y_train))\n",
        "proba = clf_bagging.predict(flatten_test)\n",
        "\n",
        "filename = 'SVC_Bagging_model.sav'\n",
        "path = F\"/content/drive/My Drive/{filename}\" \n",
        "torch.save(clf_bagging, path)\n",
        "\n",
        "y_pred_bagging = clf_bagging.predict(flatten_test)\n",
        "accuracy_bagging = metrics.accuracy_score(y_test, y_pred_bagging)\n",
        "print(\"Accuracy:\",accuracy_bagging)\n"
      ],
      "execution_count": 27,
      "outputs": [
        {
          "output_type": "stream",
          "text": [
            "Bagging SVC score 0.8177821201758672\n",
            "Accuracy: 0.6749010292953286\n"
          ],
          "name": "stdout"
        }
      ]
    },
    {
      "cell_type": "code",
      "metadata": {
        "id": "_EVLFfVd2ePZ",
        "colab_type": "code",
        "colab": {
          "base_uri": "https://localhost:8080/",
          "height": 136
        },
        "outputId": "c9f5f679-cfc7-4b23-d8dc-5f1d91c997b1"
      },
      "source": [
        "print(metrics.confusion_matrix(y_test, y_pred_bagging))"
      ],
      "execution_count": 28,
      "outputs": [
        {
          "output_type": "stream",
          "text": [
            "[[ 26  15   4 ...   0   0   0]\n",
            " [ 16 441  95 ...   9   0   1]\n",
            " [  2  45 593 ...   4   1   0]\n",
            " ...\n",
            " [  0   1   0 ...  53   0   0]\n",
            " [  0   0   0 ...   0  19   2]\n",
            " [  0   3   0 ...   0   3  45]]\n"
          ],
          "name": "stdout"
        }
      ]
    },
    {
      "cell_type": "markdown",
      "metadata": {
        "id": "hHI0g6irXM7D",
        "colab_type": "text"
      },
      "source": [
        "## Predicted classes histogram by Bagging classifier"
      ]
    },
    {
      "cell_type": "code",
      "metadata": {
        "id": "J74NkaY34wMb",
        "colab_type": "code",
        "colab": {
          "base_uri": "https://localhost:8080/",
          "height": 279
        },
        "outputId": "9a119c3a-2edc-4d15-8604-9a1f58e5e080"
      },
      "source": [
        "hist, bins = np.histogram(y_pred_bagging, bins=43)\n",
        "center = (bins[:-1] + bins[1:]) / 2\n",
        "\n",
        "plt.bar(center, hist, width=0.5, color = 'red')\n",
        "\n",
        "plt.xlabel(\"Predicted Class\")\n",
        "plt.ylabel(\"Number of images\")\n",
        "plt.show()\n"
      ],
      "execution_count": 33,
      "outputs": [
        {
          "output_type": "display_data",
          "data": {
            "image/png": "[encoded data removed]",
            "text/plain": [
              "<Figure size 432x288 with 1 Axes>"
            ]
          },
          "metadata": {
            "tags": []
          }
        }
      ]
    },
    {
      "cell_type": "markdown",
      "metadata": {
        "id": "M4G6GFP8XT5_",
        "colab_type": "text"
      },
      "source": [
        "## Actual test data classes"
      ]
    },
    {
      "cell_type": "code",
      "metadata": {
        "id": "1EiE4_Hf8dZK",
        "colab_type": "code",
        "colab": {
          "base_uri": "https://localhost:8080/",
          "height": 279
        },
        "outputId": "95be5d89-663d-4d70-ddb4-1304e64cc2ce"
      },
      "source": [
        "\n",
        "hist, bins = np.histogram(y_test, bins=43)\n",
        "center = (bins[:-1] + bins[1:]) / 2\n",
        "\n",
        "plt.bar(center, hist, width=0.5, color = 'green')\n",
        "\n",
        "plt.xlabel(\"Actual Class\")\n",
        "plt.ylabel(\"Number of images\")\n",
        "plt.show()"
      ],
      "execution_count": 34,
      "outputs": [
        {
          "output_type": "display_data",
          "data": {
            "image/png": "[encoded data removed]",
            "text/plain": [
              "<Figure size 432x288 with 1 Axes>"
            ]
          },
          "metadata": {
            "tags": []
          }
        }
      ]
    },
    {
      "cell_type": "markdown",
      "metadata": {
        "id": "VlGHibNs2NO_",
        "colab_type": "text"
      },
      "source": [
        "## **Accuracy of SVC Bagging Classifier: 67.49%**"
      ]
    },
    {
      "cell_type": "markdown",
      "metadata": {
        "id": "CpqwuDyXqfOI",
        "colab_type": "text"
      },
      "source": [
        "# References:\n",
        "- https://blog.hyperiondev.com/index.php/2019/02/18/machine-learning/\n",
        "- https://www.datacamp.com/community/tutorials/k-nearest-neighbor-classification-scikit-learn\n",
        "- https://github.com/mohamedameen93/German-Traffic-Sign-Classification-Using-TensorFlow/blob/master/Traffic_Sign_Classifier.ipynb"
      ]
    }
  ]
}